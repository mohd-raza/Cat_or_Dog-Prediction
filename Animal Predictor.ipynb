{
 "cells": [
  {
   "cell_type": "code",
   "execution_count": 1,
   "id": "9b99b224",
   "metadata": {},
   "outputs": [],
   "source": [
    "import tensorflow as tf\n",
    "from keras.preprocessing.image import ImageDataGenerator"
   ]
  },
  {
   "cell_type": "markdown",
   "id": "9e16811c",
   "metadata": {},
   "source": [
    "Preprocessing the training set"
   ]
  },
  {
   "cell_type": "code",
   "execution_count": 3,
   "id": "9933d9db",
   "metadata": {},
   "outputs": [
    {
     "name": "stdout",
     "output_type": "stream",
     "text": [
      "Found 8000 images belonging to 2 classes.\n"
     ]
    }
   ],
   "source": [
    "train_datagen = ImageDataGenerator(rescale=1./255, shear_range=0.2, zoom_range=0.2,horizontal_flip=True)\n",
    "training_set = train_datagen.flow_from_directory('training_set/',target_size=(64,64), batch_size=32,class_mode='binary')"
   ]
  },
  {
   "cell_type": "markdown",
   "id": "be8dc5a4",
   "metadata": {},
   "source": [
    " Preprocessing the test set "
   ]
  },
  {
   "cell_type": "code",
   "execution_count": 4,
   "id": "483d2478",
   "metadata": {},
   "outputs": [
    {
     "name": "stdout",
     "output_type": "stream",
     "text": [
      "Found 2000 images belonging to 2 classes.\n"
     ]
    }
   ],
   "source": [
    "test_datagen = ImageDataGenerator(rescale=1./255)\n",
    "test_set = test_datagen.flow_from_directory('test_set/',target_size=(64,64),batch_size=32,class_mode='binary')"
   ]
  },
  {
   "cell_type": "markdown",
   "id": "4ba3d943",
   "metadata": {},
   "source": [
    "# Building the CNN"
   ]
  },
  {
   "cell_type": "markdown",
   "id": "ba3e3d03",
   "metadata": {},
   "source": [
    "Initialising the CNN"
   ]
  },
  {
   "cell_type": "code",
   "execution_count": 5,
   "id": "2df4ec6f",
   "metadata": {},
   "outputs": [],
   "source": [
    "cnn = tf.keras.models.Sequential()"
   ]
  },
  {
   "cell_type": "markdown",
   "id": "86a4316d",
   "metadata": {},
   "source": [
    "Step 1 : Convulution Layer "
   ]
  },
  {
   "cell_type": "code",
   "execution_count": 6,
   "id": "05fa1e6e",
   "metadata": {},
   "outputs": [],
   "source": [
    "cnn.add(tf.keras.layers.Conv2D(filters=32,kernel_size=3,activation='relu',input_shape=(64,64,3)))"
   ]
  },
  {
   "cell_type": "markdown",
   "id": "a748b3c9",
   "metadata": {},
   "source": [
    "Step 2: Pooling"
   ]
  },
  {
   "cell_type": "code",
   "execution_count": 7,
   "id": "1328dd34",
   "metadata": {},
   "outputs": [],
   "source": [
    "cnn.add(tf.keras.layers.MaxPool2D(pool_size=(2,2), strides=2))"
   ]
  },
  {
   "cell_type": "markdown",
   "id": "872c5816",
   "metadata": {},
   "source": [
    "adding a second convulution layer"
   ]
  },
  {
   "cell_type": "code",
   "execution_count": 8,
   "id": "042f92b3",
   "metadata": {},
   "outputs": [],
   "source": [
    "cnn.add(tf.keras.layers.Conv2D(filters=32,kernel_size=3,activation='relu'))\n",
    "cnn.add(tf.keras.layers.MaxPool2D(pool_size=(2,2), strides=2))"
   ]
  },
  {
   "cell_type": "markdown",
   "id": "b6050d6e",
   "metadata": {},
   "source": [
    "Step 3: Flattening "
   ]
  },
  {
   "cell_type": "code",
   "execution_count": 9,
   "id": "f6e8c2be",
   "metadata": {},
   "outputs": [],
   "source": [
    "cnn.add(tf.keras.layers.Flatten())"
   ]
  },
  {
   "cell_type": "markdown",
   "id": "74502ce0",
   "metadata": {},
   "source": [
    "Full Connetion"
   ]
  },
  {
   "cell_type": "code",
   "execution_count": 10,
   "id": "674b9f18",
   "metadata": {},
   "outputs": [],
   "source": [
    "cnn.add(tf.keras.layers.Dense(units=128, activation='relu'))"
   ]
  },
  {
   "cell_type": "markdown",
   "id": "7247e2b6",
   "metadata": {},
   "source": [
    "Output layer"
   ]
  },
  {
   "cell_type": "code",
   "execution_count": 11,
   "id": "d7ef3601",
   "metadata": {},
   "outputs": [],
   "source": [
    "cnn.add(tf.keras.layers.Dense(units=1, activation='sigmoid'))"
   ]
  },
  {
   "cell_type": "markdown",
   "id": "96b752da",
   "metadata": {},
   "source": [
    "# Training the CNN "
   ]
  },
  {
   "cell_type": "markdown",
   "id": "05c0a193",
   "metadata": {},
   "source": [
    "Compiling the CNN "
   ]
  },
  {
   "cell_type": "code",
   "execution_count": 12,
   "id": "bbb20bb0",
   "metadata": {},
   "outputs": [],
   "source": [
    "cnn.compile(optimizer='adam',loss='binary_crossentropy',metrics=['accuracy'])"
   ]
  },
  {
   "cell_type": "markdown",
   "id": "98bc0431",
   "metadata": {},
   "source": [
    "Training the CNN"
   ]
  },
  {
   "cell_type": "code",
   "execution_count": 13,
   "id": "77ce73a8",
   "metadata": {},
   "outputs": [
    {
     "name": "stdout",
     "output_type": "stream",
     "text": [
      "Epoch 1/25\n",
      "250/250 [==============================] - 42s 166ms/step - loss: 0.6639 - accuracy: 0.5929 - val_loss: 0.6135 - val_accuracy: 0.6595\n",
      "Epoch 2/25\n",
      "250/250 [==============================] - 43s 171ms/step - loss: 0.6020 - accuracy: 0.6718 - val_loss: 0.5537 - val_accuracy: 0.7330\n",
      "Epoch 3/25\n",
      "250/250 [==============================] - 41s 163ms/step - loss: 0.5619 - accuracy: 0.7050 - val_loss: 0.5439 - val_accuracy: 0.7345\n",
      "Epoch 4/25\n",
      "250/250 [==============================] - 40s 160ms/step - loss: 0.5372 - accuracy: 0.7337 - val_loss: 0.5341 - val_accuracy: 0.7345\n",
      "Epoch 5/25\n",
      "250/250 [==============================] - 41s 165ms/step - loss: 0.5192 - accuracy: 0.7424 - val_loss: 0.5254 - val_accuracy: 0.7475\n",
      "Epoch 6/25\n",
      "250/250 [==============================] - 40s 160ms/step - loss: 0.4859 - accuracy: 0.7678 - val_loss: 0.4862 - val_accuracy: 0.7745\n",
      "Epoch 7/25\n",
      "250/250 [==============================] - 41s 164ms/step - loss: 0.4817 - accuracy: 0.7707 - val_loss: 0.5647 - val_accuracy: 0.7310\n",
      "Epoch 8/25\n",
      "250/250 [==============================] - 42s 166ms/step - loss: 0.4539 - accuracy: 0.7844 - val_loss: 0.4962 - val_accuracy: 0.7705\n",
      "Epoch 9/25\n",
      "250/250 [==============================] - 41s 163ms/step - loss: 0.4446 - accuracy: 0.7864 - val_loss: 0.4785 - val_accuracy: 0.7790\n",
      "Epoch 10/25\n",
      "250/250 [==============================] - 38s 151ms/step - loss: 0.4399 - accuracy: 0.7949 - val_loss: 0.4791 - val_accuracy: 0.7890\n",
      "Epoch 11/25\n",
      "250/250 [==============================] - 38s 152ms/step - loss: 0.4274 - accuracy: 0.8023 - val_loss: 0.5080 - val_accuracy: 0.7615\n",
      "Epoch 12/25\n",
      "250/250 [==============================] - 40s 161ms/step - loss: 0.4130 - accuracy: 0.8134 - val_loss: 0.5197 - val_accuracy: 0.7665\n",
      "Epoch 13/25\n",
      "250/250 [==============================] - 39s 156ms/step - loss: 0.4003 - accuracy: 0.8173 - val_loss: 0.4708 - val_accuracy: 0.7780\n",
      "Epoch 14/25\n",
      "250/250 [==============================] - 44s 177ms/step - loss: 0.3835 - accuracy: 0.8269 - val_loss: 0.4980 - val_accuracy: 0.7795\n",
      "Epoch 15/25\n",
      "250/250 [==============================] - 39s 156ms/step - loss: 0.3747 - accuracy: 0.8322 - val_loss: 0.4383 - val_accuracy: 0.8050\n",
      "Epoch 16/25\n",
      "250/250 [==============================] - 35s 142ms/step - loss: 0.3663 - accuracy: 0.8315 - val_loss: 0.4524 - val_accuracy: 0.8060\n",
      "Epoch 17/25\n",
      "250/250 [==============================] - 36s 142ms/step - loss: 0.3545 - accuracy: 0.8440 - val_loss: 0.4627 - val_accuracy: 0.8010\n",
      "Epoch 18/25\n",
      "250/250 [==============================] - 40s 160ms/step - loss: 0.3558 - accuracy: 0.8391 - val_loss: 0.4549 - val_accuracy: 0.7940\n",
      "Epoch 19/25\n",
      "250/250 [==============================] - 38s 151ms/step - loss: 0.3357 - accuracy: 0.8500 - val_loss: 0.5304 - val_accuracy: 0.7795\n",
      "Epoch 20/25\n",
      "250/250 [==============================] - 36s 142ms/step - loss: 0.3188 - accuracy: 0.8615 - val_loss: 0.5753 - val_accuracy: 0.7850\n",
      "Epoch 21/25\n",
      "250/250 [==============================] - 37s 147ms/step - loss: 0.3154 - accuracy: 0.8601 - val_loss: 0.4769 - val_accuracy: 0.7895\n",
      "Epoch 22/25\n",
      "250/250 [==============================] - 37s 147ms/step - loss: 0.3089 - accuracy: 0.8615 - val_loss: 0.5041 - val_accuracy: 0.8025\n",
      "Epoch 23/25\n",
      "250/250 [==============================] - 39s 156ms/step - loss: 0.2904 - accuracy: 0.8756 - val_loss: 0.5127 - val_accuracy: 0.8030\n",
      "Epoch 24/25\n",
      "250/250 [==============================] - 36s 145ms/step - loss: 0.2840 - accuracy: 0.8785 - val_loss: 0.5223 - val_accuracy: 0.8000\n",
      "Epoch 25/25\n",
      "250/250 [==============================] - 40s 158ms/step - loss: 0.2676 - accuracy: 0.8874 - val_loss: 0.5388 - val_accuracy: 0.7985\n"
     ]
    },
    {
     "data": {
      "text/plain": [
       "<keras.callbacks.History at 0x158ba1f3be0>"
      ]
     },
     "execution_count": 13,
     "metadata": {},
     "output_type": "execute_result"
    }
   ],
   "source": [
    "cnn.fit(x=training_set, validation_data=test_set, epochs=25)"
   ]
  },
  {
   "cell_type": "code",
   "execution_count": 14,
   "id": "a1f39e74",
   "metadata": {},
   "outputs": [
    {
     "name": "stdout",
     "output_type": "stream",
     "text": [
      "Model: \"sequential\"\n",
      "_________________________________________________________________\n",
      " Layer (type)                Output Shape              Param #   \n",
      "=================================================================\n",
      " conv2d (Conv2D)             (None, 62, 62, 32)        896       \n",
      "                                                                 \n",
      " max_pooling2d (MaxPooling2D  (None, 31, 31, 32)       0         \n",
      " )                                                               \n",
      "                                                                 \n",
      " conv2d_1 (Conv2D)           (None, 29, 29, 32)        9248      \n",
      "                                                                 \n",
      " max_pooling2d_1 (MaxPooling  (None, 14, 14, 32)       0         \n",
      " 2D)                                                             \n",
      "                                                                 \n",
      " flatten (Flatten)           (None, 6272)              0         \n",
      "                                                                 \n",
      " dense (Dense)               (None, 128)               802944    \n",
      "                                                                 \n",
      " dense_1 (Dense)             (None, 1)                 129       \n",
      "                                                                 \n",
      "=================================================================\n",
      "Total params: 813,217\n",
      "Trainable params: 813,217\n",
      "Non-trainable params: 0\n",
      "_________________________________________________________________\n"
     ]
    }
   ],
   "source": [
    "cnn.summary()"
   ]
  },
  {
   "cell_type": "markdown",
   "id": "e98a0688",
   "metadata": {},
   "source": [
    "Making Prediction"
   ]
  },
  {
   "cell_type": "code",
   "execution_count": 26,
   "id": "e6f96895",
   "metadata": {},
   "outputs": [],
   "source": [
    "import numpy as np\n",
    "from keras.preprocessing import image\n",
    "import matplotlib.pyplot as plt"
   ]
  },
  {
   "cell_type": "code",
   "execution_count": 50,
   "id": "5361d29c",
   "metadata": {},
   "outputs": [],
   "source": [
    "def cat_or_dog(img):\n",
    "    test_img = image.load_img(img,target_size = (64,64))\n",
    "    test_img = image.img_to_array(test_img)\n",
    "    test_img = np.expand_dims(test_img, axis=0)\n",
    "    result = cnn.predict(test_img)\n",
    "    if result[0][0] == 1:\n",
    "        return \"dog\"\n",
    "    else:\n",
    "        return \"cat\""
   ]
  },
  {
   "cell_type": "code",
   "execution_count": 51,
   "id": "5c7ea4b0",
   "metadata": {},
   "outputs": [],
   "source": [
    "import os"
   ]
  },
  {
   "cell_type": "code",
   "execution_count": 52,
   "id": "ec8984b4",
   "metadata": {},
   "outputs": [],
   "source": [
    "directory = 'sample_set'"
   ]
  },
  {
   "cell_type": "code",
   "execution_count": 54,
   "id": "889a465c",
   "metadata": {},
   "outputs": [
    {
     "name": "stdout",
     "output_type": "stream",
     "text": [
      "dog\n",
      "cat\n",
      "cat\n",
      "dog\n"
     ]
    }
   ],
   "source": [
    "for filename in os.listdir(directory):\n",
    "    f = os.path.join(directory,filename)\n",
    "    result = cat_or_dog(f)\n",
    "    print(result)"
   ]
  },
  {
   "cell_type": "code",
   "execution_count": 56,
   "id": "07b957eb",
   "metadata": {},
   "outputs": [],
   "source": [
    "import joblib"
   ]
  },
  {
   "cell_type": "code",
   "execution_count": 57,
   "id": "53ac3a23",
   "metadata": {},
   "outputs": [
    {
     "name": "stdout",
     "output_type": "stream",
     "text": [
      "INFO:tensorflow:Assets written to: ram://1345451e-ae48-41bc-9b4a-58634d577170/assets\n"
     ]
    },
    {
     "data": {
      "text/plain": [
       "['cat_or_dog']"
      ]
     },
     "execution_count": 57,
     "metadata": {},
     "output_type": "execute_result"
    }
   ],
   "source": [
    "joblib.dump(cnn,'cat_or_dog')"
   ]
  }
 ],
 "metadata": {
  "kernelspec": {
   "display_name": "Python 3 (ipykernel)",
   "language": "python",
   "name": "python3"
  },
  "language_info": {
   "codemirror_mode": {
    "name": "ipython",
    "version": 3
   },
   "file_extension": ".py",
   "mimetype": "text/x-python",
   "name": "python",
   "nbconvert_exporter": "python",
   "pygments_lexer": "ipython3",
   "version": "3.9.7"
  }
 },
 "nbformat": 4,
 "nbformat_minor": 5
}
